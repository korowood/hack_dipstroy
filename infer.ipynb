{
 "cells": [
  {
   "cell_type": "code",
   "execution_count": 1,
   "metadata": {
    "collapsed": true
   },
   "outputs": [],
   "source": [
    "import pandas as pd\n",
    "import numpy as np\n",
    "import warnings\n",
    "from src.preprocessing import preproc\n",
    "from catboost import Pool\n",
    "from src.aggregate import new_features\n",
    "\n",
    "warnings.filterwarnings(\"ignore\")"
   ]
  },
  {
   "cell_type": "code",
   "execution_count": 42,
   "outputs": [],
   "source": [
    "data = pd.read_excel(\"Тест.xlsx\")"
   ],
   "metadata": {
    "collapsed": false,
    "pycharm": {
     "name": "#%%\n"
    }
   }
  },
  {
   "cell_type": "code",
   "execution_count": 43,
   "outputs": [
    {
     "data": {
      "text/plain": "       № п/п          obj_prg                      obj_subprg   obj_key  \\\n0         36      Образование           Дошкольные учреждения  020-0684   \n1         35      Образование           Дошкольные учреждения  019-0589   \n2         61      Образование  Общеобразовательные учреждения  019-0594   \n3         89         Культура               Культурные центры  021-0458   \n4         34      Образование           Дошкольные учреждения  017-0520   \n...      ...              ...                             ...       ...   \n64659     21  Здравоохранение                     Поликлиники  023-0135   \n64660     28  Здравоохранение                     Поликлиники  021-0049   \n64661     29  Здравоохранение                     Поликлиники  021-0050   \n64662     31  Здравоохранение                     Поликлиники  022-0707   \n64663     33  Здравоохранение                     Поликлиники  022-0630   \n\n                                           obj_shortName Кодзадачи  \\\n0                             ДОУ на 125, ТПУ \"Мневники\"         1   \n1                             ДОУ на 225, ТПУ \"Мневники\"         1   \n2                           Школа на 800, ТПУ \"Мневники\"         1   \n3                               КСЦ \"Печатники\", Полбина         1   \n4           ДОУ на 350, ул. 6-я Радиальная и ул. Дуговая         1   \n...                                                  ...       ...   \n64659  ДП на 320, ул. Зеленоградская,  2 этап. Ликвид...       NaN   \n64660         Пристройка к поликлинике ул. Кременчугская       NaN   \n64661              ДВП на 560, Проектируемый проезд 3538       NaN   \n64662                               ДВП на 320, Онежская       NaN   \n64663                     ДП на 200, Измайловский проезд       NaN   \n\n             НазваниеЗадачи  ПроцентЗавершенияЗадачи ДатаНачалаЗадачи  \\\n0      Предпроектные работы                      0.0       2020-11-03   \n1      Предпроектные работы                      0.0       2020-11-03   \n2      Предпроектные работы                      0.0       2021-05-04   \n3      Предпроектные работы                    100.0       2021-10-12   \n4      Предпроектные работы                    100.0       2018-11-01   \n...                     ...                      ...              ...   \n64659                   NaN                      NaN              NaT   \n64660                   NaN                      NaN              NaT   \n64661                   NaN                      NaN              NaT   \n64662                   NaN                      NaN              NaT   \n64663                   NaN                      NaN              NaT   \n\n      ДатаОкончанияЗадачи ДатаначалаБП0 ДатаокончанияБП0  Статуспоэкспертизе  \\\n0              2022-02-01    2020-11-03       2021-12-29                 NaN   \n1              2022-05-16    2020-11-03       2021-12-29                 NaN   \n2              2021-12-15    2021-05-04       2021-12-15                 NaN   \n3              2023-05-29    2021-10-12       2023-05-12                 NaN   \n4              2022-02-15    2018-11-01       2022-02-15                 NaN   \n...                   ...           ...              ...                 ...   \n64659                 NaT           NaT              NaT                 NaN   \n64660                 NaT           NaT              NaT                 NaN   \n64661                 NaT           NaT              NaT                 NaN   \n64662                 NaT           NaT              NaT                 NaN   \n64663                 NaT           NaT              NaT                 NaN   \n\n      Экспертиза  \n0            NaN  \n1            NaN  \n2            NaN  \n3            NaN  \n4            NaN  \n...          ...  \n64659        NaN  \n64660        NaN  \n64661        NaN  \n64662        NaN  \n64663        NaN  \n\n[64664 rows x 14 columns]",
      "text/html": "<div>\n<style scoped>\n    .dataframe tbody tr th:only-of-type {\n        vertical-align: middle;\n    }\n\n    .dataframe tbody tr th {\n        vertical-align: top;\n    }\n\n    .dataframe thead th {\n        text-align: right;\n    }\n</style>\n<table border=\"1\" class=\"dataframe\">\n  <thead>\n    <tr style=\"text-align: right;\">\n      <th></th>\n      <th>№ п/п</th>\n      <th>obj_prg</th>\n      <th>obj_subprg</th>\n      <th>obj_key</th>\n      <th>obj_shortName</th>\n      <th>Кодзадачи</th>\n      <th>НазваниеЗадачи</th>\n      <th>ПроцентЗавершенияЗадачи</th>\n      <th>ДатаНачалаЗадачи</th>\n      <th>ДатаОкончанияЗадачи</th>\n      <th>ДатаначалаБП0</th>\n      <th>ДатаокончанияБП0</th>\n      <th>Статуспоэкспертизе</th>\n      <th>Экспертиза</th>\n    </tr>\n  </thead>\n  <tbody>\n    <tr>\n      <th>0</th>\n      <td>36</td>\n      <td>Образование</td>\n      <td>Дошкольные учреждения</td>\n      <td>020-0684</td>\n      <td>ДОУ на 125, ТПУ \"Мневники\"</td>\n      <td>1</td>\n      <td>Предпроектные работы</td>\n      <td>0.0</td>\n      <td>2020-11-03</td>\n      <td>2022-02-01</td>\n      <td>2020-11-03</td>\n      <td>2021-12-29</td>\n      <td>NaN</td>\n      <td>NaN</td>\n    </tr>\n    <tr>\n      <th>1</th>\n      <td>35</td>\n      <td>Образование</td>\n      <td>Дошкольные учреждения</td>\n      <td>019-0589</td>\n      <td>ДОУ на 225, ТПУ \"Мневники\"</td>\n      <td>1</td>\n      <td>Предпроектные работы</td>\n      <td>0.0</td>\n      <td>2020-11-03</td>\n      <td>2022-05-16</td>\n      <td>2020-11-03</td>\n      <td>2021-12-29</td>\n      <td>NaN</td>\n      <td>NaN</td>\n    </tr>\n    <tr>\n      <th>2</th>\n      <td>61</td>\n      <td>Образование</td>\n      <td>Общеобразовательные учреждения</td>\n      <td>019-0594</td>\n      <td>Школа на 800, ТПУ \"Мневники\"</td>\n      <td>1</td>\n      <td>Предпроектные работы</td>\n      <td>0.0</td>\n      <td>2021-05-04</td>\n      <td>2021-12-15</td>\n      <td>2021-05-04</td>\n      <td>2021-12-15</td>\n      <td>NaN</td>\n      <td>NaN</td>\n    </tr>\n    <tr>\n      <th>3</th>\n      <td>89</td>\n      <td>Культура</td>\n      <td>Культурные центры</td>\n      <td>021-0458</td>\n      <td>КСЦ \"Печатники\", Полбина</td>\n      <td>1</td>\n      <td>Предпроектные работы</td>\n      <td>100.0</td>\n      <td>2021-10-12</td>\n      <td>2023-05-29</td>\n      <td>2021-10-12</td>\n      <td>2023-05-12</td>\n      <td>NaN</td>\n      <td>NaN</td>\n    </tr>\n    <tr>\n      <th>4</th>\n      <td>34</td>\n      <td>Образование</td>\n      <td>Дошкольные учреждения</td>\n      <td>017-0520</td>\n      <td>ДОУ на 350, ул. 6-я Радиальная и ул. Дуговая</td>\n      <td>1</td>\n      <td>Предпроектные работы</td>\n      <td>100.0</td>\n      <td>2018-11-01</td>\n      <td>2022-02-15</td>\n      <td>2018-11-01</td>\n      <td>2022-02-15</td>\n      <td>NaN</td>\n      <td>NaN</td>\n    </tr>\n    <tr>\n      <th>...</th>\n      <td>...</td>\n      <td>...</td>\n      <td>...</td>\n      <td>...</td>\n      <td>...</td>\n      <td>...</td>\n      <td>...</td>\n      <td>...</td>\n      <td>...</td>\n      <td>...</td>\n      <td>...</td>\n      <td>...</td>\n      <td>...</td>\n      <td>...</td>\n    </tr>\n    <tr>\n      <th>64659</th>\n      <td>21</td>\n      <td>Здравоохранение</td>\n      <td>Поликлиники</td>\n      <td>023-0135</td>\n      <td>ДП на 320, ул. Зеленоградская,  2 этап. Ликвид...</td>\n      <td>NaN</td>\n      <td>NaN</td>\n      <td>NaN</td>\n      <td>NaT</td>\n      <td>NaT</td>\n      <td>NaT</td>\n      <td>NaT</td>\n      <td>NaN</td>\n      <td>NaN</td>\n    </tr>\n    <tr>\n      <th>64660</th>\n      <td>28</td>\n      <td>Здравоохранение</td>\n      <td>Поликлиники</td>\n      <td>021-0049</td>\n      <td>Пристройка к поликлинике ул. Кременчугская</td>\n      <td>NaN</td>\n      <td>NaN</td>\n      <td>NaN</td>\n      <td>NaT</td>\n      <td>NaT</td>\n      <td>NaT</td>\n      <td>NaT</td>\n      <td>NaN</td>\n      <td>NaN</td>\n    </tr>\n    <tr>\n      <th>64661</th>\n      <td>29</td>\n      <td>Здравоохранение</td>\n      <td>Поликлиники</td>\n      <td>021-0050</td>\n      <td>ДВП на 560, Проектируемый проезд 3538</td>\n      <td>NaN</td>\n      <td>NaN</td>\n      <td>NaN</td>\n      <td>NaT</td>\n      <td>NaT</td>\n      <td>NaT</td>\n      <td>NaT</td>\n      <td>NaN</td>\n      <td>NaN</td>\n    </tr>\n    <tr>\n      <th>64662</th>\n      <td>31</td>\n      <td>Здравоохранение</td>\n      <td>Поликлиники</td>\n      <td>022-0707</td>\n      <td>ДВП на 320, Онежская</td>\n      <td>NaN</td>\n      <td>NaN</td>\n      <td>NaN</td>\n      <td>NaT</td>\n      <td>NaT</td>\n      <td>NaT</td>\n      <td>NaT</td>\n      <td>NaN</td>\n      <td>NaN</td>\n    </tr>\n    <tr>\n      <th>64663</th>\n      <td>33</td>\n      <td>Здравоохранение</td>\n      <td>Поликлиники</td>\n      <td>022-0630</td>\n      <td>ДП на 200, Измайловский проезд</td>\n      <td>NaN</td>\n      <td>NaN</td>\n      <td>NaN</td>\n      <td>NaT</td>\n      <td>NaT</td>\n      <td>NaT</td>\n      <td>NaT</td>\n      <td>NaN</td>\n      <td>NaN</td>\n    </tr>\n  </tbody>\n</table>\n<p>64664 rows × 14 columns</p>\n</div>"
     },
     "execution_count": 43,
     "metadata": {},
     "output_type": "execute_result"
    }
   ],
   "source": [
    "data"
   ],
   "metadata": {
    "collapsed": false,
    "pycharm": {
     "name": "#%%\n"
    }
   }
  },
  {
   "cell_type": "code",
   "execution_count": 44,
   "outputs": [],
   "source": [
    "# data = pd.read_csv(\"sample.csv\")\n",
    "cols = pd.read_pickle(\"cols.pkl\")\n",
    "data = data[cols]\n",
    "data['date_report'] = data['ДатаНачалаЗадачи']\n",
    "data['marker'] = 1\n",
    "data.sort_values(\"date_report\", inplace=True)"
   ],
   "metadata": {
    "collapsed": false,
    "pycharm": {
     "name": "#%%\n"
    }
   }
  },
  {
   "cell_type": "code",
   "execution_count": 44,
   "outputs": [],
   "source": [],
   "metadata": {
    "collapsed": false,
    "pycharm": {
     "name": "#%%\n"
    }
   }
  },
  {
   "cell_type": "code",
   "execution_count": 45,
   "outputs": [],
   "source": [
    "filename_data = \"dataset_hackaton_ksg__v2__23062023__1710_GMT3.csv\"\n",
    "filename_attr = \"data_mgz_attributes__24062023__1000_GMT3.csv\"\n",
    "df = pd.read_csv(filename_data, sep=';', index_col='Unnamed: 0')\n",
    "attr = pd.read_csv(filename_attr, sep=';', index_col='Unnamed: 0')\n",
    "df['marker'] = 0"
   ],
   "metadata": {
    "collapsed": false,
    "pycharm": {
     "name": "#%%\n"
    }
   }
  },
  {
   "cell_type": "code",
   "execution_count": 49,
   "outputs": [
    {
     "name": "stdout",
     "output_type": "stream",
     "text": [
      "<class 'pandas.core.frame.DataFrame'>\n",
      "Int64Index: 64664 entries, 162 to 64663\n",
      "Data columns (total 15 columns):\n",
      " #   Column                   Non-Null Count  Dtype         \n",
      "---  ------                   --------------  -----         \n",
      " 0   № п/п                    64664 non-null  int64         \n",
      " 1   obj_prg                  64664 non-null  object        \n",
      " 2   obj_subprg               64664 non-null  object        \n",
      " 3   obj_key                  64664 non-null  object        \n",
      " 4   Кодзадачи                64651 non-null  object        \n",
      " 5   НазваниеЗадачи           64648 non-null  object        \n",
      " 6   ПроцентЗавершенияЗадачи  64651 non-null  float64       \n",
      " 7   ДатаНачалаЗадачи         64651 non-null  datetime64[ns]\n",
      " 8   ДатаОкончанияЗадачи      64651 non-null  datetime64[ns]\n",
      " 9   ДатаначалаБП0            50468 non-null  datetime64[ns]\n",
      " 10  ДатаокончанияБП0         50496 non-null  datetime64[ns]\n",
      " 11  Статуспоэкспертизе       979 non-null    float64       \n",
      " 12  Экспертиза               206 non-null    object        \n",
      " 13  date_report              64651 non-null  datetime64[ns]\n",
      " 14  marker                   64664 non-null  int64         \n",
      "dtypes: datetime64[ns](5), float64(2), int64(2), object(6)\n",
      "memory usage: 7.9+ MB\n"
     ]
    }
   ],
   "source": [
    "data.info()"
   ],
   "metadata": {
    "collapsed": false,
    "pycharm": {
     "name": "#%%\n"
    }
   }
  },
  {
   "cell_type": "code",
   "execution_count": 50,
   "outputs": [],
   "source": [
    "df['ДатаОкончанияЗадачи'] = pd.to_datetime(df['ДатаОкончанияЗадачи'])\n",
    "df['ДатаНачалаЗадачи'] = pd.to_datetime(df['ДатаНачалаЗадачи'])\n",
    "df['date_report'] = pd.to_datetime(df['date_report'])"
   ],
   "metadata": {
    "collapsed": false,
    "pycharm": {
     "name": "#%%\n"
    }
   }
  },
  {
   "cell_type": "code",
   "execution_count": 48,
   "outputs": [
    {
     "name": "stdout",
     "output_type": "stream",
     "text": [
      "<class 'pandas.core.frame.DataFrame'>\n",
      "Int64Index: 1060165 entries, 0 to 63508\n",
      "Data columns (total 15 columns):\n",
      " #   Column                   Non-Null Count    Dtype  \n",
      "---  ------                   --------------    -----  \n",
      " 0   № п/п                    1060165 non-null  int64  \n",
      " 1   obj_prg                  1060165 non-null  object \n",
      " 2   obj_subprg               1060165 non-null  object \n",
      " 3   obj_key                  1060164 non-null  object \n",
      " 4   Кодзадачи                1059960 non-null  object \n",
      " 5   НазваниеЗадачи           1059799 non-null  object \n",
      " 6   ПроцентЗавершенияЗадачи  1059960 non-null  float64\n",
      " 7   ДатаНачалаЗадачи         1059960 non-null  object \n",
      " 8   ДатаОкончанияЗадачи      1059960 non-null  object \n",
      " 9   ДатаначалаБП0            797152 non-null   object \n",
      " 10  ДатаокончанияБП0         800439 non-null   object \n",
      " 11  Статуспоэкспертизе       15781 non-null    float64\n",
      " 12  Экспертиза               3421 non-null     object \n",
      " 13  date_report              1060165 non-null  object \n",
      " 14  marker                   1060165 non-null  int64  \n",
      "dtypes: float64(2), int64(2), object(11)\n",
      "memory usage: 129.4+ MB\n"
     ]
    }
   ],
   "source": [
    "df.info()"
   ],
   "metadata": {
    "collapsed": false,
    "pycharm": {
     "name": "#%%\n"
    }
   }
  },
  {
   "cell_type": "code",
   "execution_count": 53,
   "outputs": [],
   "source": [
    "data_ = pd.concat([df.reset_index(), data.reset_index()], axis=0, ignore_index=True).drop(\"index\", axis=1)\n",
    "data_.sort_values(\"date_report\", inplace=True)"
   ],
   "metadata": {
    "collapsed": false,
    "pycharm": {
     "name": "#%%\n"
    }
   }
  },
  {
   "cell_type": "code",
   "execution_count": 54,
   "outputs": [],
   "source": [
    "a = preproc(data_, attr, task_name=\"INFER\")\n",
    "a = new_features(a)"
   ],
   "metadata": {
    "collapsed": false,
    "pycharm": {
     "name": "#%%\n"
    }
   }
  },
  {
   "cell_type": "code",
   "execution_count": 56,
   "outputs": [],
   "source": [
    "inference_data = a[a['marker']==1].copy()"
   ],
   "metadata": {
    "collapsed": false,
    "pycharm": {
     "name": "#%%\n"
    }
   }
  },
  {
   "cell_type": "code",
   "execution_count": 57,
   "outputs": [],
   "source": [
    "final_feat = pd.read_pickle(\"artifacts/final_feat.pkl\")\n",
    "new_cat_feat = pd.read_pickle(\"artifacts/new_cat_feat.pkl\")"
   ],
   "metadata": {
    "collapsed": false,
    "pycharm": {
     "name": "#%%\n"
    }
   }
  },
  {
   "cell_type": "code",
   "execution_count": null,
   "outputs": [],
   "source": [],
   "metadata": {
    "collapsed": false,
    "pycharm": {
     "name": "#%%\n"
    }
   }
  },
  {
   "cell_type": "code",
   "execution_count": 58,
   "outputs": [],
   "source": [
    "infer_pool = Pool(data=inference_data[final_feat], cat_features=new_cat_feat)"
   ],
   "metadata": {
    "collapsed": false,
    "pycharm": {
     "name": "#%%\n"
    }
   }
  },
  {
   "cell_type": "code",
   "execution_count": 60,
   "outputs": [],
   "source": [
    "models = pd.read_pickle(\"artifacts/models_.pkl\")"
   ],
   "metadata": {
    "collapsed": false,
    "pycharm": {
     "name": "#%%\n"
    }
   }
  },
  {
   "cell_type": "code",
   "execution_count": 61,
   "outputs": [],
   "source": [
    "pred = 0\n",
    "\n",
    "for model in models:\n",
    "    pred += model.predict(infer_pool)\n",
    "\n",
    "res = np.round((pred / 4).clip(0))"
   ],
   "metadata": {
    "collapsed": false,
    "pycharm": {
     "name": "#%%\n"
    }
   }
  },
  {
   "cell_type": "code",
   "execution_count": 64,
   "outputs": [],
   "source": [
    "inference_data['predict'] = res"
   ],
   "metadata": {
    "collapsed": false,
    "pycharm": {
     "name": "#%%\n"
    }
   }
  },
  {
   "cell_type": "code",
   "execution_count": null,
   "outputs": [],
   "source": [
    "inference_data['preds'] = np.abs(inference_data['target'] - inference_data['predict'])\n",
    "inference_data.to_csv(\"new_sample.csv\", index=False)"
   ],
   "metadata": {
    "collapsed": false,
    "pycharm": {
     "name": "#%%\n"
    }
   }
  },
  {
   "cell_type": "code",
   "execution_count": 65,
   "outputs": [],
   "source": [
    "import shap"
   ],
   "metadata": {
    "collapsed": false,
    "pycharm": {
     "name": "#%%\n"
    }
   }
  },
  {
   "cell_type": "code",
   "execution_count": 73,
   "outputs": [],
   "source": [
    "models = pd.read_pickle(\"artifacts/models_.pkl\")\n",
    "model = models[0]"
   ],
   "metadata": {
    "collapsed": false,
    "pycharm": {
     "name": "#%%\n"
    }
   }
  },
  {
   "cell_type": "code",
   "execution_count": 74,
   "outputs": [],
   "source": [
    "explainer = shap.Explainer(model)"
   ],
   "metadata": {
    "collapsed": false,
    "pycharm": {
     "name": "#%%\n"
    }
   }
  },
  {
   "cell_type": "code",
   "execution_count": null,
   "outputs": [],
   "source": [
    "shap_values = explainer(inference_data[final_feat])"
   ],
   "metadata": {
    "collapsed": false,
    "pycharm": {
     "name": "#%%\n",
     "is_executing": true
    }
   }
  },
  {
   "cell_type": "code",
   "execution_count": 31,
   "outputs": [],
   "source": [
    "pd.to_pickle(shap_values, \"artifacts/shap_values.pkl\")"
   ],
   "metadata": {
    "collapsed": false,
    "pycharm": {
     "name": "#%%\n"
    }
   }
  },
  {
   "cell_type": "code",
   "execution_count": 68,
   "outputs": [],
   "source": [],
   "metadata": {
    "collapsed": false,
    "pycharm": {
     "name": "#%%\n"
    }
   }
  },
  {
   "cell_type": "code",
   "execution_count": 67,
   "outputs": [],
   "source": [],
   "metadata": {
    "collapsed": false,
    "pycharm": {
     "name": "#%%\n"
    }
   }
  },
  {
   "cell_type": "code",
   "execution_count": null,
   "outputs": [],
   "source": [],
   "metadata": {
    "collapsed": false,
    "pycharm": {
     "name": "#%%\n"
    }
   }
  }
 ],
 "metadata": {
  "kernelspec": {
   "display_name": "Python 3",
   "language": "python",
   "name": "python3"
  },
  "language_info": {
   "codemirror_mode": {
    "name": "ipython",
    "version": 2
   },
   "file_extension": ".py",
   "mimetype": "text/x-python",
   "name": "python",
   "nbconvert_exporter": "python",
   "pygments_lexer": "ipython2",
   "version": "2.7.6"
  }
 },
 "nbformat": 4,
 "nbformat_minor": 0
}